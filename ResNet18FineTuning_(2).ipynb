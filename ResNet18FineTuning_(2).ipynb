{
  "cells": [
    {
      "cell_type": "markdown",
      "metadata": {
        "id": "view-in-github",
        "colab_type": "text"
      },
      "source": [
        "<a href=\"https://colab.research.google.com/github/filo1110/BDC/blob/master/ResNet18FineTuning_(2).ipynb\" target=\"_parent\"><img src=\"https://colab.research.google.com/assets/colab-badge.svg\" alt=\"Open In Colab\"/></a>"
      ]
    },
    {
      "cell_type": "code",
      "execution_count": 2,
      "id": "849f9bb9",
      "metadata": {
        "id": "849f9bb9"
      },
      "outputs": [],
      "source": [
        "import torch\n",
        "import torch.nn as nn\n",
        "import torchvision.models as models\n",
        "from torch.utils.data.sampler import SubsetRandomSampler\n",
        "import glob\n",
        "import cv2\n",
        "import numpy as np\n",
        "from torch import optim\n",
        "import torch.nn.functional as F\n",
        "from torch.utils.data import Dataset, DataLoader\n",
        "import torchvision.transforms as transforms\n",
        "import torch.optim as optim\n",
        "from torch.optim.lr_scheduler import StepLR\n",
        "import timeit\n",
        "from tqdm import tqdm\n",
        "\n",
        "import os\n",
        "os.environ[\"KMP_DUPLICATE_LIB_OK\"]=\"TRUE\"\n",
        "\n",
        "torch.manual_seed(17)\n",
        "\n",
        "device = torch.device(\"cuda\" )"
      ]
    },
    {
      "cell_type": "code",
      "source": [
        "from google.colab import drive\n",
        "drive_path = '/content/drive'\n",
        "drive.mount(drive_path)"
      ],
      "metadata": {
        "colab": {
          "base_uri": "https://localhost:8080/"
        },
        "id": "72nLDDpp2yHU",
        "outputId": "5042c297-7bd3-45d5-bccb-c20346792110"
      },
      "id": "72nLDDpp2yHU",
      "execution_count": 3,
      "outputs": [
        {
          "output_type": "stream",
          "name": "stdout",
          "text": [
            "Mounted at /content/drive\n"
          ]
        }
      ]
    },
    {
      "cell_type": "code",
      "source": [
        "dataset_path = os.path.join(drive_path, \"MyDrive\", \"FaceRecognition/Dataset/WebfaceShort/\")\n",
        "print(dataset_path)"
      ],
      "metadata": {
        "colab": {
          "base_uri": "https://localhost:8080/"
        },
        "id": "rBy19kF72t7u",
        "outputId": "9a7f3c2c-4800-4283-f475-e62fadf6a461"
      },
      "id": "rBy19kF72t7u",
      "execution_count": 4,
      "outputs": [
        {
          "output_type": "stream",
          "name": "stdout",
          "text": [
            "/content/drive/MyDrive/FaceRecognition/Dataset/WebfaceShort/\n"
          ]
        }
      ]
    },
    {
      "cell_type": "markdown",
      "source": [
        "Classe di creazione del dataset, a seconda del dataset che vuoi usare devi commentare e decommentare precise righe di codice a seconda dei numeri che ti ho messo"
      ],
      "metadata": {
        "id": "1Zjwn1sn1fd6"
      },
      "id": "1Zjwn1sn1fd6"
    },
    {
      "cell_type": "code",
      "execution_count": 5,
      "id": "8a5b1da0",
      "metadata": {
        "id": "8a5b1da0"
      },
      "outputs": [],
      "source": [
        "class CustomDataset(Dataset):\n",
        "    def __init__(self, transform):\n",
        "        #1\n",
        "        #self.imgs_path = \"/content/drive/My Drive/FaceRecognition/Dataset/lfw3/\"\n",
        "\n",
        "        #2\n",
        "        #self.imgs_path = \"/content/drive/My Drive/FaceRecognition/Dataset/WebfaceCrop/\"\n",
        "\n",
        "        #3\n",
        "        self.imgs_path = \"/content/drive/My Drive/FaceRecognition/Dataset/WebfaceShort/\"\n",
        "\n",
        "        file_list = glob.glob(self.imgs_path + \"*\")\n",
        "        self.data = []\n",
        "        new_dict = dict()\n",
        "        counter = 0\n",
        "        for class_path in file_list:\n",
        "            #1\n",
        "            #classPathIndex = class_path.find('w3')\n",
        "            #class_name = class_path[classPathIndex +3:]\n",
        "\n",
        "            #2\n",
        "            #classPathIndex = class_path.find('rop')\n",
        "            #class_name = class_path[classPathIndex +4:]\n",
        "\n",
        "            #3\n",
        "            classPathIndex = class_path.find('ort')\n",
        "            class_name = class_path[classPathIndex +4:]\n",
        "            \n",
        "            new_dict.update({class_name : counter})\n",
        "            counter+=1\n",
        "            for img_path in glob.glob(class_path + \"/*.jpg\"):\n",
        "                self.data.append([img_path, class_name])\n",
        "        #self.class_map =torch.tensor( new_dict)\n",
        "        self.class_map =new_dict\n",
        "        self.img_dim = (224, 224)\n",
        "        self.transform = transform\n",
        "        \n",
        "    def __len__(self):\n",
        "        return len(self.data)\n",
        "    \n",
        "    def __getitem__(self, idx):\n",
        "        img_path, class_name = self.data[idx]\n",
        "        img = cv2.imread(img_path)\n",
        "        img = cv2.resize(img, self.img_dim)\n",
        "        class_id = self.class_map[class_name]\n",
        "        img_tensor = torch.from_numpy(img)\n",
        "        img_tensor = img_tensor.permute(2, 0, 1)\n",
        "        class_id = torch.tensor([class_id])\n",
        "        return img_tensor, class_id\n",
        "    \n",
        "    def numberOfClasses(self):\n",
        "        return len(self.class_map)   \n",
        "    "
      ]
    },
    {
      "cell_type": "markdown",
      "source": [
        "Alcune trasformate che puoi applicare per fare data augmentation"
      ],
      "metadata": {
        "id": "2_PlofDU1opd"
      },
      "id": "2_PlofDU1opd"
    },
    {
      "cell_type": "code",
      "execution_count": 6,
      "id": "773f7bb2",
      "metadata": {
        "id": "773f7bb2"
      },
      "outputs": [],
      "source": [
        "transform = transforms.Compose(\n",
        "        [\n",
        "            transforms.Resize((224, 224)),\n",
        "            #transforms.RandomCrop((32, 32)), \n",
        "            #transforms.ColorJitter(brightness=0.5), \n",
        "            #transforms.RandomRotation(degrees=45),\n",
        "            #transforms.RandomHorizontalFlip(p=0.5),  # Flips the image horizontally with probability 0.5\n",
        "            #transforms.RandomVerticalFlip(p=0.05),  # Flips image vertically with probability 0.05\n",
        "            #transforms.RandomGrayscale(p=0.2),  # Converts to grayscale with probability 0.2\n",
        "            transforms.ToTensor(),  # Finally converts PIL image to tensor so we can train w. pytorch\n",
        "            transforms.Normalize(mean = [0.485, 0.456, 0.406], std=[0.229, 0.224, 0.225]),  # Note: these values aren't optimal\n",
        "        ]\n",
        "    )"
      ]
    },
    {
      "cell_type": "code",
      "execution_count": 7,
      "id": "c714c6cd",
      "metadata": {
        "colab": {
          "base_uri": "https://localhost:8080/"
        },
        "id": "c714c6cd",
        "outputId": "5d2ad0f0-a179-4cc0-9ea4-da591f5a6f39"
      },
      "outputs": [
        {
          "output_type": "stream",
          "name": "stdout",
          "text": [
            "79\n"
          ]
        }
      ],
      "source": [
        "dataset = CustomDataset(transform)\n",
        "\n",
        "print(dataset.numberOfClasses())"
      ]
    },
    {
      "cell_type": "code",
      "execution_count": 8,
      "id": "a7cb42d6",
      "metadata": {
        "colab": {
          "base_uri": "https://localhost:8080/"
        },
        "id": "a7cb42d6",
        "outputId": "19ecdea5-ae00-4854-e76e-d6dfb8ff0152"
      },
      "outputs": [
        {
          "output_type": "stream",
          "name": "stdout",
          "text": [
            "6675\n",
            "741\n",
            "105\n",
            "12\n"
          ]
        }
      ],
      "source": [
        "batch_size = 64\n",
        "validation_split = .10\n",
        "shuffle_dataset = True\n",
        "random_seed= 42\n",
        "#random_seed= 30\n",
        "\n",
        "data_loader = DataLoader(dataset, batch_size, shuffle=True)\n",
        "\n",
        "\n",
        "# Creating data indices for training and validation splits:n8\n",
        "dataset_size = len(dataset)\n",
        "indices = list(range(dataset_size))\n",
        "split = int(np.floor(validation_split * dataset_size))\n",
        "if shuffle_dataset :\n",
        "    np.random.seed(random_seed)\n",
        "    np.random.shuffle(indices)\n",
        "train_indices, val_indices = indices[split:], indices[:split]\n",
        "#train_indices, test_indices = train_indices[split:], train_indices[:split]\n",
        "\n",
        "# Creating PT data samplers and loaders:\n",
        "train_sampler = SubsetRandomSampler(train_indices)\n",
        "valid_sampler = SubsetRandomSampler(val_indices)\n",
        "#test_sampler = SubsetRandomSampler(test_indices)\n",
        "\n",
        "train_loader = torch.utils.data.DataLoader(dataset, batch_size=batch_size, \n",
        "                                           sampler=train_sampler)\n",
        "validation_loader = torch.utils.data.DataLoader(dataset, batch_size=batch_size,\n",
        "                                                sampler=valid_sampler)\n",
        "#test_loader = torch.utils.data.DataLoader(dataset, batch_size=batch_size,\n",
        "#                                                sampler=test_sampler)\n",
        "\n",
        "print(len(train_sampler))\n",
        "\n",
        "print(len(valid_sampler))\n",
        "#print(len(test_sampler))\n",
        "\n",
        "\n",
        "print(len(train_loader))\n",
        "\n",
        "print(len(validation_loader))\n",
        "\n",
        "#print(len(test_loader))\n",
        "\n"
      ]
    },
    {
      "cell_type": "code",
      "execution_count": 9,
      "id": "77084b3c",
      "metadata": {
        "id": "77084b3c"
      },
      "outputs": [],
      "source": [
        "def GetModel ():\n",
        "\n",
        "    model_ft = models.resnet18(pretrained=True)\n",
        "\n",
        "    num_ftrs = model_ft.fc.in_features\n",
        "\n",
        "    for module, param in zip(model_ft.modules(), model_ft.parameters()):\n",
        "        if isinstance(module, nn.BatchNorm2d):\n",
        "            param.requires_grad = False\n",
        "    \n",
        "    headModel = nn.Sequential(\n",
        "        nn.Linear(num_ftrs, 1024),\n",
        "        nn.ReLU(),\n",
        "        nn.Dropout(0.25),\n",
        "        nn.Linear(1024, 512),\n",
        "        nn.ReLU(),\n",
        "        nn.Dropout(0.5),\n",
        "        nn.Linear(512, dataset.numberOfClasses(), bias=True)\n",
        "    )\n",
        "    model_ft.fc = headModel\n",
        "\n",
        "    #model.fc = nn.Linear(in_features=num_ftrs, out_features=dataset.numberOfClasses(), bias=True)\n",
        "    #model_ft.softmax = nn.Softmax(dim=1)\n",
        "    model_ft = model_ft.cuda()    \n",
        "\n",
        "\n",
        "    return model_ft"
      ]
    },
    {
      "cell_type": "code",
      "execution_count": 10,
      "id": "68b0024f",
      "metadata": {
        "id": "68b0024f"
      },
      "outputs": [],
      "source": [
        "def FreezeLayer (model_ft, iteration)  :\n",
        "    count= 0\n",
        "    itera=0\n",
        "\n",
        "    for layer in model_ft.children():\n",
        "        count+=1\n",
        "    print(count)   \n",
        "    for layer in model_ft.children():\n",
        "        itera+=1\n",
        "        if itera >= count-iteration and itera != 10:\n",
        "            print('setta parametro a true del layer ', itera)\n",
        "            for parameter in layer.parameters():\n",
        "                parameter.requires_grad = True"
      ]
    },
    {
      "cell_type": "code",
      "execution_count": 11,
      "id": "715f024d",
      "metadata": {
        "id": "715f024d"
      },
      "outputs": [],
      "source": [
        "def train (model_ft, optimizer, scheduler, criterion, adam = False):\n",
        "\n",
        "    steps = 0\n",
        "    running_loss = 0\n",
        "    print_every = len(train_loader)\n",
        "    allAcc= []\n",
        "    train_losses,test_losses= [],[]\n",
        "    epoch_acc=0\n",
        "    epochs=20\n",
        "\n",
        "    start = timeit.default_timer()\n",
        "\n",
        "    best_val_acc = -1.0\n",
        "    notIncreasing = False\n",
        "    for epoch in range(epochs):\n",
        "        \n",
        "        for inputs, labels in train_loader:\n",
        "            model_ft.train()\n",
        "            steps += 1\n",
        "            inputs, labels = inputs.to(device), labels.to(device)\n",
        "            if len(train_sampler) % 2 == 0:\n",
        "                labels= labels.squeeze_()\n",
        "            else :\n",
        "                labels = labels.squeeze_(1)\n",
        "            #inputs = inputs.view(inputs.shape[0], -1)\n",
        "            inputs= inputs.float()\n",
        "            optimizer.zero_grad()        \n",
        "            logps = model_ft.forward(inputs)   \n",
        "            loss = criterion(logps, labels)\n",
        "            loss.backward()\n",
        "            optimizer.step()\n",
        "            running_loss += loss.item()\n",
        "\n",
        "            if steps % print_every == 0:\n",
        "                test_loss = 0\n",
        "                accuracy = 0\n",
        "                model_ft.eval()\n",
        "                with torch.no_grad():\n",
        "                    for inputs, labels in validation_loader:\n",
        "                        inputs, labels = inputs.to(device), labels.to(device)\n",
        "                        if len(valid_sampler) % 2 == 0:\n",
        "                            labels= labels.squeeze_()\n",
        "                        else :\n",
        "                            labels = labels.squeeze_(1)\n",
        "                        inputs= inputs.float()\n",
        "                        logps = model_ft.forward(inputs)\n",
        "                        batch_loss = criterion(logps, labels)\n",
        "                        test_loss += batch_loss.item()\n",
        "\n",
        "                        ps = torch.exp(logps)\n",
        "                        top_p, top_class = ps.topk(1, dim=1)\n",
        "                        equals = top_class == labels.view(*top_class.shape)\n",
        "                        accuracy += torch.mean(equals.type(torch.FloatTensor)).item()\n",
        "\n",
        "                train_losses.append(running_loss/len(train_loader))\n",
        "                test_losses.append(test_loss/len(validation_loader))                    \n",
        "                print(f\"Epoch {epoch+1}/{epochs}.. \"\n",
        "                      f\"Train loss: {running_loss/print_every:.3f}.. \"\n",
        "                      f\"Test loss: {test_loss/len(validation_loader):.3f}.. \"\n",
        "                      f\"Test accuracy: {accuracy/len(validation_loader):.3f}\")\n",
        "                if adam == True:\n",
        "                    scheduler.step(running_loss)\n",
        "                trainLoss = running_loss\n",
        "                running_loss = 0\n",
        "                epoch_acc=accuracy/len(validation_loader)\n",
        "                allAcc.append(epoch_acc)\n",
        "                print('Acc',allAcc )\n",
        "\n",
        "\n",
        "\n",
        "            #if epoch_acc > best_val_acc:\n",
        "             #   best_val_acc = epoch_acc\n",
        "              #  model_ft.state_dict()\n",
        "               # torch.save(model_ft.state_dict(), 'C:/Users/vasce/Desktop/Codice Tesi Magistrale/provaprecedente.pt')\n",
        "                #print('Modello salvato')\n",
        "        if adam == False:\n",
        "            scheduler.step()  \n",
        "        if epoch >= 5:\n",
        "            i=epoch-1\n",
        "            if (allAcc[i]- allAcc[i-1] <= 0.05\n",
        "                and allAcc[i]- allAcc[i-2] <= 0.05 \n",
        "                and allAcc[i]- allAcc[i-3] <= 0.05 ):\n",
        "                    notIncreasing = True\n",
        "                    break\n",
        "        if trainLoss/print_every <= 0.03:\n",
        "            break\n",
        "        if notIncreasing == True : break\n",
        "\n",
        "\n",
        "    stop = timeit.default_timer()\n",
        "\n",
        "    print('Tempo: ', stop - start) \n",
        "\n",
        "    print(\"Fine training\")\n",
        "    \n",
        "    return epoch_acc"
      ]
    },
    {
      "cell_type": "code",
      "execution_count": null,
      "id": "4e1dfc54",
      "metadata": {
        "scrolled": true,
        "colab": {
          "base_uri": "https://localhost:8080/",
          "height": 520,
          "referenced_widgets": [
            "2f2ee374f6c64dd1845e6810a9c67fe5",
            "b44e49cd7b4b493e90af2287d67b9cb8",
            "96fa3a5d3ac44fb1af4c14d63f154522",
            "fccac984adb24149bd51a3cb8d7e48cd",
            "4464dc426c4c4a90ac92a961ef669b4f",
            "330cf316f35349469b2819fb5eafe3bf",
            "7c885adbb983493b91161ef1d1f65aa7",
            "dce2d276ffda4deeabe5db85f7c35a6b",
            "879f45be7b234276940445bfb4c61121",
            "3f61078c72ab459da3c0d774e7aa0256",
            "0cac66cfb44b4be58091b871dc9e5a51"
          ]
        },
        "id": "4e1dfc54",
        "outputId": "ffd00aeb-df40-4180-9c27-bc438360a115"
      },
      "outputs": [
        {
          "output_type": "stream",
          "name": "stdout",
          "text": [
            "\n",
            "\n",
            "\n",
            "\n",
            "\n",
            "\n",
            "\n",
            "-------------------------------------------------\n",
            "SGD con learning rate  0.0001\n",
            "\n",
            "\n",
            "Training numero  9\n"
          ]
        },
        {
          "output_type": "stream",
          "name": "stderr",
          "text": [
            "/usr/local/lib/python3.7/dist-packages/torchvision/models/_utils.py:209: UserWarning: The parameter 'pretrained' is deprecated since 0.13 and will be removed in 0.15, please use 'weights' instead.\n",
            "  f\"The parameter '{pretrained_param}' is deprecated since 0.13 and will be removed in 0.15, \"\n",
            "/usr/local/lib/python3.7/dist-packages/torchvision/models/_utils.py:223: UserWarning: Arguments other than a weight enum or `None` for 'weights' are deprecated since 0.13 and will be removed in 0.15. The current behavior is equivalent to passing `weights=ResNet18_Weights.IMAGENET1K_V1`. You can also use `weights=ResNet18_Weights.DEFAULT` to get the most up-to-date weights.\n",
            "  warnings.warn(msg)\n",
            "Downloading: \"https://download.pytorch.org/models/resnet18-f37072fd.pth\" to /root/.cache/torch/hub/checkpoints/resnet18-f37072fd.pth\n"
          ]
        },
        {
          "output_type": "display_data",
          "data": {
            "text/plain": [
              "  0%|          | 0.00/44.7M [00:00<?, ?B/s]"
            ],
            "application/vnd.jupyter.widget-view+json": {
              "version_major": 2,
              "version_minor": 0,
              "model_id": "2f2ee374f6c64dd1845e6810a9c67fe5"
            }
          },
          "metadata": {}
        },
        {
          "output_type": "stream",
          "name": "stdout",
          "text": [
            "10\n",
            "setta parametro a true del layer  2\n",
            "setta parametro a true del layer  3\n",
            "setta parametro a true del layer  4\n",
            "setta parametro a true del layer  5\n",
            "setta parametro a true del layer  6\n",
            "setta parametro a true del layer  7\n",
            "setta parametro a true del layer  8\n",
            "setta parametro a true del layer  9\n"
          ]
        }
      ],
      "source": [
        "countLR = -1\n",
        "lr= 0.001\n",
        "bad = True\n",
        "\n",
        "while bad == True:\n",
        "    count = 8\n",
        "    lr = lr / 10\n",
        "    print('\\n\\n\\n\\n\\n\\n\\n-------------------------------------------------\\nSGD con learning rate ', lr)\n",
        "    \n",
        "    while True:\n",
        "        print('\\n\\nTraining numero ', count + 1)\n",
        "        model= GetModel()\n",
        "        criterion = nn.CrossEntropyLoss()\n",
        "        #optimizer= optim.SGD(model.parameters(), lr=lr, momentum=0.9)\n",
        "        #scheduler = optim.lr_scheduler.StepLR(optimizer, step_size=5, gamma=0.1) \n",
        "        optimizer = optim.Adam(model.parameters(), lr=lr, weight_decay=1e-5)\n",
        "        scheduler = optim.lr_scheduler.ReduceLROnPlateau(optimizer, patience=2, verbose=True)\n",
        "        FreezeLayer(model, count)\n",
        "        accuracy = train(model, optimizer, scheduler, criterion, True)\n",
        "        count+=1\n",
        "        if count == 10: break\n",
        "        if accuracy > 0.9: break\n",
        "    if accuracy > 0.9: bad =False\n",
        "    countLR -=1"
      ]
    },
    {
      "cell_type": "code",
      "execution_count": null,
      "id": "9e6d3b83",
      "metadata": {
        "id": "9e6d3b83"
      },
      "outputs": [],
      "source": [
        "countLR = -1\n",
        "lr= 0.0001\n",
        "bad = True\n",
        "\n",
        "while bad == True:\n",
        "    count = 0\n",
        "    print('\\n\\n\\n\\n\\n\\n\\n-------------------------------------------------\\nSGD con learning rate ', lr)\n",
        "    \n",
        "    while True:\n",
        "        print('\\n\\nTraining numero ', count + 1)\n",
        "        model= GetModel()\n",
        "        criterion = nn.CrossEntropyLoss()\n",
        "        #optimizer= optim.SGD(model.parameters(), lr=lr, momentum=0.9)\n",
        "        #scheduler = optim.lr_scheduler.StepLR(optimizer, step_size=5, gamma=0.1) \n",
        "        optimizer = optim.Adam(model.parameters(), lr=lr, weight_decay=1e-5)\n",
        "        scheduler = optim.lr_scheduler.ReduceLROnPlateau(optimizer, patience=2, verbose=True)\n",
        "        FreezeLayer(model, count)\n",
        "        accuracy = train(model, optimizer, scheduler, criterion, True)\n",
        "        count+=1\n",
        "        if count == 10: break\n",
        "        if accuracy > 0.9: break\n",
        "    if accuracy > 0.9: bad =False\n",
        "    lr+= 0.0001\n",
        "    countLR -=1"
      ]
    },
    {
      "cell_type": "code",
      "execution_count": null,
      "id": "49115df0",
      "metadata": {
        "id": "49115df0"
      },
      "outputs": [],
      "source": [
        "allAcc=[0.365,0.366,0.3675,0.3685,0.3695]\n",
        "\n",
        "for epoch in range(100):\n",
        "    print(epoch)\n",
        "    if epoch == 5:\n",
        "            i=epoch\n",
        "            if (allAcc[i]- allAcc[i-1] <= 0.02 \n",
        "                and allAcc[i]- allAcc[i-2] <= 0.02 \n",
        "                and allAcc[i]- allAcc[i-3] <= 0.02 \n",
        "                and allAcc[i]- allAcc[i-4] <= 0.02):\n",
        "                    print(allAcc[i])\n",
        "                    print(allAcc[i-1])\n",
        "                    print(allAcc[i-2])\n",
        "                    print(allAcc[i-3])\n",
        "                    print(allAcc[i-4])\n",
        "                    print('error')\n",
        "                    break"
      ]
    }
  ],
  "metadata": {
    "kernelspec": {
      "display_name": "Python 3 (ipykernel)",
      "language": "python",
      "name": "python3"
    },
    "language_info": {
      "codemirror_mode": {
        "name": "ipython",
        "version": 3
      },
      "file_extension": ".py",
      "mimetype": "text/x-python",
      "name": "python",
      "nbconvert_exporter": "python",
      "pygments_lexer": "ipython3",
      "version": "3.9.12"
    },
    "colab": {
      "name": "ResNet18FineTuning (2).ipynb",
      "provenance": [],
      "collapsed_sections": [],
      "include_colab_link": true
    },
    "accelerator": "GPU",
    "gpuClass": "standard",
    "widgets": {
      "application/vnd.jupyter.widget-state+json": {
        "2f2ee374f6c64dd1845e6810a9c67fe5": {
          "model_module": "@jupyter-widgets/controls",
          "model_name": "HBoxModel",
          "model_module_version": "1.5.0",
          "state": {
            "_dom_classes": [],
            "_model_module": "@jupyter-widgets/controls",
            "_model_module_version": "1.5.0",
            "_model_name": "HBoxModel",
            "_view_count": null,
            "_view_module": "@jupyter-widgets/controls",
            "_view_module_version": "1.5.0",
            "_view_name": "HBoxView",
            "box_style": "",
            "children": [
              "IPY_MODEL_b44e49cd7b4b493e90af2287d67b9cb8",
              "IPY_MODEL_96fa3a5d3ac44fb1af4c14d63f154522",
              "IPY_MODEL_fccac984adb24149bd51a3cb8d7e48cd"
            ],
            "layout": "IPY_MODEL_4464dc426c4c4a90ac92a961ef669b4f"
          }
        },
        "b44e49cd7b4b493e90af2287d67b9cb8": {
          "model_module": "@jupyter-widgets/controls",
          "model_name": "HTMLModel",
          "model_module_version": "1.5.0",
          "state": {
            "_dom_classes": [],
            "_model_module": "@jupyter-widgets/controls",
            "_model_module_version": "1.5.0",
            "_model_name": "HTMLModel",
            "_view_count": null,
            "_view_module": "@jupyter-widgets/controls",
            "_view_module_version": "1.5.0",
            "_view_name": "HTMLView",
            "description": "",
            "description_tooltip": null,
            "layout": "IPY_MODEL_330cf316f35349469b2819fb5eafe3bf",
            "placeholder": "​",
            "style": "IPY_MODEL_7c885adbb983493b91161ef1d1f65aa7",
            "value": "100%"
          }
        },
        "96fa3a5d3ac44fb1af4c14d63f154522": {
          "model_module": "@jupyter-widgets/controls",
          "model_name": "FloatProgressModel",
          "model_module_version": "1.5.0",
          "state": {
            "_dom_classes": [],
            "_model_module": "@jupyter-widgets/controls",
            "_model_module_version": "1.5.0",
            "_model_name": "FloatProgressModel",
            "_view_count": null,
            "_view_module": "@jupyter-widgets/controls",
            "_view_module_version": "1.5.0",
            "_view_name": "ProgressView",
            "bar_style": "success",
            "description": "",
            "description_tooltip": null,
            "layout": "IPY_MODEL_dce2d276ffda4deeabe5db85f7c35a6b",
            "max": 46830571,
            "min": 0,
            "orientation": "horizontal",
            "style": "IPY_MODEL_879f45be7b234276940445bfb4c61121",
            "value": 46830571
          }
        },
        "fccac984adb24149bd51a3cb8d7e48cd": {
          "model_module": "@jupyter-widgets/controls",
          "model_name": "HTMLModel",
          "model_module_version": "1.5.0",
          "state": {
            "_dom_classes": [],
            "_model_module": "@jupyter-widgets/controls",
            "_model_module_version": "1.5.0",
            "_model_name": "HTMLModel",
            "_view_count": null,
            "_view_module": "@jupyter-widgets/controls",
            "_view_module_version": "1.5.0",
            "_view_name": "HTMLView",
            "description": "",
            "description_tooltip": null,
            "layout": "IPY_MODEL_3f61078c72ab459da3c0d774e7aa0256",
            "placeholder": "​",
            "style": "IPY_MODEL_0cac66cfb44b4be58091b871dc9e5a51",
            "value": " 44.7M/44.7M [00:00&lt;00:00, 130MB/s]"
          }
        },
        "4464dc426c4c4a90ac92a961ef669b4f": {
          "model_module": "@jupyter-widgets/base",
          "model_name": "LayoutModel",
          "model_module_version": "1.2.0",
          "state": {
            "_model_module": "@jupyter-widgets/base",
            "_model_module_version": "1.2.0",
            "_model_name": "LayoutModel",
            "_view_count": null,
            "_view_module": "@jupyter-widgets/base",
            "_view_module_version": "1.2.0",
            "_view_name": "LayoutView",
            "align_content": null,
            "align_items": null,
            "align_self": null,
            "border": null,
            "bottom": null,
            "display": null,
            "flex": null,
            "flex_flow": null,
            "grid_area": null,
            "grid_auto_columns": null,
            "grid_auto_flow": null,
            "grid_auto_rows": null,
            "grid_column": null,
            "grid_gap": null,
            "grid_row": null,
            "grid_template_areas": null,
            "grid_template_columns": null,
            "grid_template_rows": null,
            "height": null,
            "justify_content": null,
            "justify_items": null,
            "left": null,
            "margin": null,
            "max_height": null,
            "max_width": null,
            "min_height": null,
            "min_width": null,
            "object_fit": null,
            "object_position": null,
            "order": null,
            "overflow": null,
            "overflow_x": null,
            "overflow_y": null,
            "padding": null,
            "right": null,
            "top": null,
            "visibility": null,
            "width": null
          }
        },
        "330cf316f35349469b2819fb5eafe3bf": {
          "model_module": "@jupyter-widgets/base",
          "model_name": "LayoutModel",
          "model_module_version": "1.2.0",
          "state": {
            "_model_module": "@jupyter-widgets/base",
            "_model_module_version": "1.2.0",
            "_model_name": "LayoutModel",
            "_view_count": null,
            "_view_module": "@jupyter-widgets/base",
            "_view_module_version": "1.2.0",
            "_view_name": "LayoutView",
            "align_content": null,
            "align_items": null,
            "align_self": null,
            "border": null,
            "bottom": null,
            "display": null,
            "flex": null,
            "flex_flow": null,
            "grid_area": null,
            "grid_auto_columns": null,
            "grid_auto_flow": null,
            "grid_auto_rows": null,
            "grid_column": null,
            "grid_gap": null,
            "grid_row": null,
            "grid_template_areas": null,
            "grid_template_columns": null,
            "grid_template_rows": null,
            "height": null,
            "justify_content": null,
            "justify_items": null,
            "left": null,
            "margin": null,
            "max_height": null,
            "max_width": null,
            "min_height": null,
            "min_width": null,
            "object_fit": null,
            "object_position": null,
            "order": null,
            "overflow": null,
            "overflow_x": null,
            "overflow_y": null,
            "padding": null,
            "right": null,
            "top": null,
            "visibility": null,
            "width": null
          }
        },
        "7c885adbb983493b91161ef1d1f65aa7": {
          "model_module": "@jupyter-widgets/controls",
          "model_name": "DescriptionStyleModel",
          "model_module_version": "1.5.0",
          "state": {
            "_model_module": "@jupyter-widgets/controls",
            "_model_module_version": "1.5.0",
            "_model_name": "DescriptionStyleModel",
            "_view_count": null,
            "_view_module": "@jupyter-widgets/base",
            "_view_module_version": "1.2.0",
            "_view_name": "StyleView",
            "description_width": ""
          }
        },
        "dce2d276ffda4deeabe5db85f7c35a6b": {
          "model_module": "@jupyter-widgets/base",
          "model_name": "LayoutModel",
          "model_module_version": "1.2.0",
          "state": {
            "_model_module": "@jupyter-widgets/base",
            "_model_module_version": "1.2.0",
            "_model_name": "LayoutModel",
            "_view_count": null,
            "_view_module": "@jupyter-widgets/base",
            "_view_module_version": "1.2.0",
            "_view_name": "LayoutView",
            "align_content": null,
            "align_items": null,
            "align_self": null,
            "border": null,
            "bottom": null,
            "display": null,
            "flex": null,
            "flex_flow": null,
            "grid_area": null,
            "grid_auto_columns": null,
            "grid_auto_flow": null,
            "grid_auto_rows": null,
            "grid_column": null,
            "grid_gap": null,
            "grid_row": null,
            "grid_template_areas": null,
            "grid_template_columns": null,
            "grid_template_rows": null,
            "height": null,
            "justify_content": null,
            "justify_items": null,
            "left": null,
            "margin": null,
            "max_height": null,
            "max_width": null,
            "min_height": null,
            "min_width": null,
            "object_fit": null,
            "object_position": null,
            "order": null,
            "overflow": null,
            "overflow_x": null,
            "overflow_y": null,
            "padding": null,
            "right": null,
            "top": null,
            "visibility": null,
            "width": null
          }
        },
        "879f45be7b234276940445bfb4c61121": {
          "model_module": "@jupyter-widgets/controls",
          "model_name": "ProgressStyleModel",
          "model_module_version": "1.5.0",
          "state": {
            "_model_module": "@jupyter-widgets/controls",
            "_model_module_version": "1.5.0",
            "_model_name": "ProgressStyleModel",
            "_view_count": null,
            "_view_module": "@jupyter-widgets/base",
            "_view_module_version": "1.2.0",
            "_view_name": "StyleView",
            "bar_color": null,
            "description_width": ""
          }
        },
        "3f61078c72ab459da3c0d774e7aa0256": {
          "model_module": "@jupyter-widgets/base",
          "model_name": "LayoutModel",
          "model_module_version": "1.2.0",
          "state": {
            "_model_module": "@jupyter-widgets/base",
            "_model_module_version": "1.2.0",
            "_model_name": "LayoutModel",
            "_view_count": null,
            "_view_module": "@jupyter-widgets/base",
            "_view_module_version": "1.2.0",
            "_view_name": "LayoutView",
            "align_content": null,
            "align_items": null,
            "align_self": null,
            "border": null,
            "bottom": null,
            "display": null,
            "flex": null,
            "flex_flow": null,
            "grid_area": null,
            "grid_auto_columns": null,
            "grid_auto_flow": null,
            "grid_auto_rows": null,
            "grid_column": null,
            "grid_gap": null,
            "grid_row": null,
            "grid_template_areas": null,
            "grid_template_columns": null,
            "grid_template_rows": null,
            "height": null,
            "justify_content": null,
            "justify_items": null,
            "left": null,
            "margin": null,
            "max_height": null,
            "max_width": null,
            "min_height": null,
            "min_width": null,
            "object_fit": null,
            "object_position": null,
            "order": null,
            "overflow": null,
            "overflow_x": null,
            "overflow_y": null,
            "padding": null,
            "right": null,
            "top": null,
            "visibility": null,
            "width": null
          }
        },
        "0cac66cfb44b4be58091b871dc9e5a51": {
          "model_module": "@jupyter-widgets/controls",
          "model_name": "DescriptionStyleModel",
          "model_module_version": "1.5.0",
          "state": {
            "_model_module": "@jupyter-widgets/controls",
            "_model_module_version": "1.5.0",
            "_model_name": "DescriptionStyleModel",
            "_view_count": null,
            "_view_module": "@jupyter-widgets/base",
            "_view_module_version": "1.2.0",
            "_view_name": "StyleView",
            "description_width": ""
          }
        }
      }
    }
  },
  "nbformat": 4,
  "nbformat_minor": 5
}